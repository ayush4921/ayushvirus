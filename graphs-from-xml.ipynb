{
 "cells": [
  {
   "cell_type": "code",
   "execution_count": 1,
   "metadata": {
    "execution": {
     "iopub.execute_input": "2020-10-15T21:51:14.629703Z",
     "iopub.status.busy": "2020-10-15T21:51:14.628866Z",
     "iopub.status.idle": "2020-10-15T21:51:14.641078Z",
     "shell.execute_reply": "2020-10-15T21:51:14.640423Z"
    },
    "papermill": {
     "duration": 0.02525,
     "end_time": "2020-10-15T21:51:14.641210",
     "exception": false,
     "start_time": "2020-10-15T21:51:14.615960",
     "status": "completed"
    },
    "tags": []
   },
   "outputs": [
    {
     "name": "stdout",
     "output_type": "stream",
     "text": [
      "['../input/asfassf/test_folder/AG123/search/funders/result.xml', '../input/asfassf/test_folder/AG123/search/disease/result.xml', '../input/asfassf/test_folder/AG123/search/country/result.xml']\n"
     ]
    }
   ],
   "source": [
    "import os\n",
    "\n",
    "\n",
    "#Just change the location to your directory\n",
    "#the program looks for result.xml and makes a graph out of it\n",
    "\n",
    "pathlist=[]\n",
    "location = '../input/asfassf/test_folder'\n",
    "\n",
    "for r, d, f in os.walk(location):\n",
    "    for item in f:\n",
    "        if 'result.xml' in item:\n",
    "            pathlist.append(os.path.join(r, item))\n",
    "            \n",
    "print(pathlist)\n"
   ]
  },
  {
   "cell_type": "code",
   "execution_count": 2,
   "metadata": {
    "execution": {
     "iopub.execute_input": "2020-10-15T21:51:14.671473Z",
     "iopub.status.busy": "2020-10-15T21:51:14.666806Z",
     "iopub.status.idle": "2020-10-15T21:51:14.706817Z",
     "shell.execute_reply": "2020-10-15T21:51:14.706085Z"
    },
    "papermill": {
     "duration": 0.059404,
     "end_time": "2020-10-15T21:51:14.706949",
     "exception": false,
     "start_time": "2020-10-15T21:51:14.647545",
     "status": "completed"
    },
    "tags": []
   },
   "outputs": [
    {
     "ename": "ModuleNotFoundError",
     "evalue": "No module named 'pandas_read_xml'",
     "output_type": "error",
     "traceback": [
      "\u001b[0;31m---------------------------------------------------------------------------\u001b[0m",
      "\u001b[0;31mModuleNotFoundError\u001b[0m                       Traceback (most recent call last)",
      "\u001b[0;32m<ipython-input-2-c30e5ffb6f9d>\u001b[0m in \u001b[0;36m<module>\u001b[0;34m\u001b[0m\n\u001b[1;32m      1\u001b[0m \u001b[0;31m#First do all the imports\u001b[0m\u001b[0;34m\u001b[0m\u001b[0;34m\u001b[0m\u001b[0;34m\u001b[0m\u001b[0m\n\u001b[0;32m----> 2\u001b[0;31m \u001b[0;32mimport\u001b[0m \u001b[0mpandas_read_xml\u001b[0m \u001b[0;32mas\u001b[0m \u001b[0mpdx\u001b[0m\u001b[0;34m\u001b[0m\u001b[0;34m\u001b[0m\u001b[0m\n\u001b[0m\u001b[1;32m      3\u001b[0m \u001b[0;32mimport\u001b[0m \u001b[0mnumpy\u001b[0m \u001b[0;32mas\u001b[0m \u001b[0mnp\u001b[0m\u001b[0;34m\u001b[0m\u001b[0;34m\u001b[0m\u001b[0m\n\u001b[1;32m      4\u001b[0m \u001b[0;32mimport\u001b[0m \u001b[0mseaborn\u001b[0m \u001b[0;32mas\u001b[0m \u001b[0msns\u001b[0m\u001b[0;34m\u001b[0m\u001b[0;34m\u001b[0m\u001b[0m\n\u001b[1;32m      5\u001b[0m \u001b[0;32mimport\u001b[0m \u001b[0mpandas\u001b[0m \u001b[0;32mas\u001b[0m \u001b[0mpd\u001b[0m\u001b[0;34m\u001b[0m\u001b[0;34m\u001b[0m\u001b[0m\n",
      "\u001b[0;31mModuleNotFoundError\u001b[0m: No module named 'pandas_read_xml'"
     ]
    }
   ],
   "source": [
    "#First do all the imports\n",
    "import pandas_read_xml as pdx\n",
    "import numpy as np\n",
    "import seaborn as sns \n",
    "import pandas as pd\n",
    "import matplotlib.pyplot as plt\n",
    "#Initiate a dataframe that reads the xml things within the tags snippetsTree and snippets\n",
    "\n",
    "#replace ../input/sddsfsdff/result.xml\n",
    "\n",
    "def makegraph(file_name):\n",
    "    df = pdx.read_xml(file_name, ['snippetsTree', 'snippets'])\n",
    "\n",
    "    #Initiate two lists in which we are going to append the values\n",
    "    row=[]\n",
    "    colum=[]\n",
    "\n",
    "    #Run a for loop to get the words and their frequency from df[\"result\"][i] which is a dict. automatically made from the dataframe\n",
    "    for i in range(0,len(df['result'])):\n",
    "        row.append(df['result'][i]['@word'])\n",
    "        colum.append(df['result'][i]['@count'])\n",
    "\n",
    "    #print(row)\n",
    "    #print(colum)\n",
    "\n",
    "    \n",
    "\n",
    "    #Make new dataframe with the names and frequency\n",
    "    df = pd.DataFrame({\"Name\":row,\n",
    "                      \"Frequency\":colum})\n",
    "    from nltk.corpus import stopwords\n",
    "    stop = stopwords.words('english')\n",
    "    df['Name without stop'] = df['Name'].apply(lambda x: ' '.join([word for word in x.split() if word not in (stop)]))\n",
    "    df['Name without stop'].replace('', np.nan, inplace=True)\n",
    "    df.dropna(subset=['Name without stop'], inplace=True)\n",
    "    #initiate matplotlib\n",
    "    plt.figure(figsize=(10,6))\n",
    "    #configure seaborn graph to make things look pretty and sort the data\n",
    "    sns.barplot(x='Name',\n",
    "                y=\"Frequency\", \n",
    "                data=df, \n",
    "                order=df.sort_values('Frequency').Name)\n",
    "    #rotate the x axis labels because they dont fit in graph\n",
    "    plt.xticks(rotation=90)\n",
    "    # adding tight_layout to make sure everything is nice and organised and doesnt overflow\n",
    "    plt.tight_layout()\n",
    "    # save the graph\n",
    "    \n",
    "    \n",
    "    name=file_name.replace(\"/\",'_')\n",
    "    name_final=name.replace('.','_')\n",
    "    plt.savefig(f\"abc{name_final}.png\", dpi=100)\n",
    "    return(\"Made the graphs\")\n",
    "\n",
    "\n",
    "\n"
   ]
  },
  {
   "cell_type": "code",
   "execution_count": null,
   "metadata": {
    "papermill": {
     "duration": 0.00552,
     "end_time": "2020-10-15T21:51:14.718529",
     "exception": false,
     "start_time": "2020-10-15T21:51:14.713009",
     "status": "completed"
    },
    "tags": []
   },
   "outputs": [],
   "source": []
  },
  {
   "cell_type": "code",
   "execution_count": 3,
   "metadata": {
    "execution": {
     "iopub.execute_input": "2020-10-15T21:51:14.743439Z",
     "iopub.status.busy": "2020-10-15T21:51:14.742605Z",
     "iopub.status.idle": "2020-10-15T21:51:14.747022Z",
     "shell.execute_reply": "2020-10-15T21:51:14.747643Z"
    },
    "papermill": {
     "duration": 0.023414,
     "end_time": "2020-10-15T21:51:14.747814",
     "exception": false,
     "start_time": "2020-10-15T21:51:14.724400",
     "status": "completed"
    },
    "tags": []
   },
   "outputs": [
    {
     "ename": "NameError",
     "evalue": "name 'makegraph' is not defined",
     "output_type": "error",
     "traceback": [
      "\u001b[0;31m---------------------------------------------------------------------------\u001b[0m",
      "\u001b[0;31mNameError\u001b[0m                                 Traceback (most recent call last)",
      "\u001b[0;32m<ipython-input-3-4a22b1ef3087>\u001b[0m in \u001b[0;36m<module>\u001b[0;34m\u001b[0m\n\u001b[1;32m      1\u001b[0m \u001b[0;32mfor\u001b[0m \u001b[0mi\u001b[0m \u001b[0;32min\u001b[0m \u001b[0mpathlist\u001b[0m\u001b[0;34m:\u001b[0m\u001b[0;34m\u001b[0m\u001b[0;34m\u001b[0m\u001b[0m\n\u001b[0;32m----> 2\u001b[0;31m     \u001b[0mmakegraph\u001b[0m\u001b[0;34m(\u001b[0m\u001b[0mi\u001b[0m\u001b[0;34m)\u001b[0m\u001b[0;34m\u001b[0m\u001b[0;34m\u001b[0m\u001b[0m\n\u001b[0m",
      "\u001b[0;31mNameError\u001b[0m: name 'makegraph' is not defined"
     ]
    }
   ],
   "source": [
    "for i in pathlist:\n",
    "    makegraph(i)"
   ]
  }
 ],
 "metadata": {
  "kernelspec": {
   "display_name": "Python 3",
   "language": "python",
   "name": "python3"
  },
  "language_info": {
   "codemirror_mode": {
    "name": "ipython",
    "version": 3
   },
   "file_extension": ".py",
   "mimetype": "text/x-python",
   "name": "python",
   "nbconvert_exporter": "python",
   "pygments_lexer": "ipython3",
   "version": "3.7.6"
  },
  "papermill": {
   "duration": 5.907059,
   "end_time": "2020-10-15T21:51:15.769288",
   "environment_variables": {},
   "exception": null,
   "input_path": "__notebook__.ipynb",
   "output_path": "__notebook__.ipynb",
   "parameters": {},
   "start_time": "2020-10-15T21:51:09.862229",
   "version": "2.1.0"
  }
 },
 "nbformat": 4,
 "nbformat_minor": 4
}
