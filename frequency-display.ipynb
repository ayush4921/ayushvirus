{
 "cells": [
  {
   "cell_type": "code",
   "execution_count": 1,
   "metadata": {},
   "outputs": [
    {
     "name": "stdout",
     "output_type": "stream",
     "text": [
      "Requirement already satisfied: pandas_read_xml in c:\\users\\themo\\appdata\\local\\programs\\python\\python36\\lib\\site-packages (0.0.8)\n",
      "Requirement already satisfied: six<2,>=1.14.0 in c:\\users\\themo\\appdata\\roaming\\python\\python36\\site-packages (from pandas_read_xml) (1.15.0)\n",
      "Requirement already satisfied: certifi<2021,>=2020.4.5.1 in c:\\users\\themo\\appdata\\local\\programs\\python\\python36\\lib\\site-packages (from pandas_read_xml) (2020.6.20)\n",
      "Requirement already satisfied: idna<3,>=2.9 in c:\\users\\themo\\appdata\\local\\programs\\python\\python36\\lib\\site-packages (from pandas_read_xml) (2.10)\n",
      "Requirement already satisfied: pandas<2,>=1.0.3 in c:\\users\\themo\\appdata\\local\\programs\\python\\python36\\lib\\site-packages (from pandas_read_xml) (1.1.3)\n",
      "Requirement already satisfied: numpy<2,>=1.18.4 in c:\\users\\themo\\appdata\\local\\programs\\python\\python36\\lib\\site-packages (from pandas_read_xml) (1.19.2)\n",
      "Requirement already satisfied: chardet<4,>=3.0.4 in c:\\users\\themo\\appdata\\local\\programs\\python\\python36\\lib\\site-packages (from pandas_read_xml) (3.0.4)\n",
      "Requirement already satisfied: urllib3<2,>=1.25.9 in c:\\users\\themo\\appdata\\local\\programs\\python\\python36\\lib\\site-packages (from pandas_read_xml) (1.25.11)\n",
      "Requirement already satisfied: pyarrow<1,>=0.17.0 in c:\\users\\themo\\appdata\\local\\programs\\python\\python36\\lib\\site-packages (from pandas_read_xml) (0.17.1)\n",
      "Requirement already satisfied: pytz<2021,>=2020.1 in c:\\users\\themo\\appdata\\local\\programs\\python\\python36\\lib\\site-packages (from pandas_read_xml) (2020.1)\n",
      "Requirement already satisfied: python-dateutil<3,>=2.8.1 in c:\\users\\themo\\appdata\\roaming\\python\\python36\\site-packages (from pandas_read_xml) (2.8.1)\n",
      "Requirement already satisfied: xmltodict<1,>=0.12.0 in c:\\users\\themo\\appdata\\local\\programs\\python\\python36\\lib\\site-packages (from pandas_read_xml) (0.12.0)\n",
      "Requirement already satisfied: requests<3,>=2.23.0 in c:\\users\\themo\\appdata\\local\\programs\\python\\python36\\lib\\site-packages (from pandas_read_xml) (2.24.0)\n",
      "['test_data\\\\PMC5764404\\\\results\\\\search\\\\country\\\\results.xml', 'test_data\\\\PMC5764404\\\\results\\\\search\\\\disease\\\\results.xml', 'test_data\\\\PMC5764404\\\\results\\\\search\\\\funders\\\\results.xml', 'test_data\\\\PMC5764404\\\\results\\\\word\\\\frequencies\\\\results.xml', 'test_data\\\\PMC5905443\\\\results\\\\search\\\\country\\\\results.xml', 'test_data\\\\PMC5905443\\\\results\\\\word\\\\frequencies\\\\results.xml', 'test_data\\\\PMC6002110\\\\results\\\\search\\\\country\\\\results.xml', 'test_data\\\\PMC6002110\\\\results\\\\search\\\\disease\\\\results.xml', 'test_data\\\\PMC6002110\\\\results\\\\search\\\\funders\\\\results.xml', 'test_data\\\\PMC6002110\\\\results\\\\search\\\\tropicalVirus\\\\results.xml', 'test_data\\\\PMC6002110\\\\results\\\\word\\\\frequencies\\\\results.xml']\n"
     ]
    },
    {
     "name": "stderr",
     "output_type": "stream",
     "text": [
      "You are using pip version 10.0.1, however version 20.2.4 is available.\n",
      "You should consider upgrading via the 'python -m pip install --upgrade pip' command.\n"
     ]
    }
   ],
   "source": [
    "import os\n",
    "!pip install pandas_read_xml\n",
    "\n",
    "#Just change the location to your directory\n",
    "#the program looks for result.xml and makes a graph out of it\n",
    "\n",
    "pathlist=[]\n",
    "location = 'test_data'\n",
    "\n",
    "for r, d, f in os.walk(location):\n",
    "    for item in f:\n",
    "        if 'results.xml' in item:\n",
    "            pathlist.append(os.path.join(r, item))\n",
    "            \n",
    "            \n",
    "print(pathlist)\n"
   ]
  },
  {
   "cell_type": "code",
   "execution_count": 20,
   "metadata": {},
   "outputs": [
    {
     "name": "stderr",
     "output_type": "stream",
     "text": [
      "[nltk_data] Downloading package stopwords to\n",
      "[nltk_data]     C:\\Users\\themo\\AppData\\Roaming\\nltk_data...\n",
      "[nltk_data]   Package stopwords is already up-to-date!\n"
     ]
    }
   ],
   "source": [
    "#First do all the imports\n",
    "import pandas_read_xml as pdx\n",
    "import numpy as np\n",
    "import seaborn as sns \n",
    "import pandas as pd\n",
    "import matplotlib.pyplot as plt\n",
    "#Initiate a dataframe that reads the xml things within the tags snippetsTree and snippets\n",
    "import nltk\n",
    "nltk.download('stopwords')\n",
    "#replace ../input/sddsfsdff/result.xml\n",
    "bad=[]\n",
    "def makegraph(file_name):\n",
    "    df = pdx.read_xml(file_name, ['results'])\n",
    "    #Initiate two lists in which we are going to append the values\n",
    "    row=[]\n",
    "    colum=[]\n",
    "\n",
    "    #Run a for loop to get the words and their frequency from df[\"result\"][i] which is a dict. automatically made from the dataframe\n",
    "    for i in range(0,len(df['result'])):\n",
    "            try:\n",
    "                row.append(df['result'][i]['@word'])\n",
    "                colum.append(df['result'][i]['@count'])\n",
    "            except:\n",
    "                bad.append(file_name)\n",
    "\n",
    "    #print(row)\n",
    "    #print(colum)\n",
    "    \n",
    "    name_for_grap=os.path.dirname(file_name)\n",
    "    name_for_graph=os.path.basename(name_for_grap)\n",
    "    \n",
    "    name=file_name.replace(\"/\",'_')\n",
    "    name_final=name.replace('.','_')\n",
    "    #Make new dataframe with the names and frequency\n",
    "    df = pd.DataFrame({\"Name\":row,\n",
    "                      \"Frequency\":colum})\n",
    "    \n",
    "\n",
    "    from nltk.corpus import stopwords\n",
    "    stop = stopwords.words('english')\n",
    "    df['Name without stop'] = df['Name'].apply(lambda x: ' '.join([word for word in x.split() if word not in (stop)]))\n",
    "    df['Name without stop'].replace('', np.nan, inplace=True)\n",
    "    df.dropna(subset=['Name without stop'], inplace=True)\n",
    "    df['Name']=df['Name without stop']\n",
    "    df=df.drop(['Name without stop'],axis=1)\n",
    "    for i in range(len(df['Name'])):\n",
    "        df['Name'][i]=str(df['Name'][i])\n",
    "        if type(df['Name'][i]) != str:\n",
    "            print(i)\n",
    "    df2=df[~df.Name.str.contains(\"{\")]\n",
    "    print(df2)\n",
    "\n",
    "\n",
    "    for i in range(len(df['Frequency'])):\n",
    "        df['Frequency'][i]=int(df['Frequency'][i])\n",
    "        if type(df['Frequency'][i]) != int:\n",
    "            print(i)\n",
    "    \n",
    "    \n",
    "    top=df['Frequency'].astype(float).nlargest(3)\n",
    "    print(top)\n",
    "    #initiate matplotlib\n",
    "    plt.figure(figsize=(3,6))\n",
    "\n",
    "    #configure seaborn graph to make things look pretty and sort the data\n",
    "    sns.barplot(x=\"Name\",\n",
    "                y=\"Frequency\", \n",
    "                data=df, \n",
    "                order=df.sort_values('Frequency').Name.iloc[-10:])\n",
    "   \n",
    "    plt.xlabel(\"Terms\")\n",
    "    plt.xlim(0, None)\n",
    "\n",
    "    #rotate the x axis labels because they dont fit in graph\n",
    "    plt.xticks(rotation=90)\n",
    "    # adding tight_layout to make sure everything is nice and organised and doesnt overflow\n",
    "    plt.tight_layout()\n",
    "    plt.show()\n",
    "    print(len(df['Frequency']))\n",
    "    # save the graph\n",
    "    \n",
    "    \n",
    "    name=file_name.replace(\"/\",'_')\n",
    "    name_final=name.replace('.','_')\n",
    "    plt.savefig(f\"abc{name_final}.png\", dpi=100)\n",
    "    return(\"Made the graphs\")\n",
    "\n",
    "\n",
    "\n"
   ]
  },
  {
   "cell_type": "code",
   "execution_count": 22,
   "metadata": {},
   "outputs": [
    {
     "name": "stdout",
     "output_type": "stream",
     "text": [
      "S\n",
      "S\n",
      "S\n",
      "          Name Frequency\n",
      "0    influenza       168\n",
      "1         data        60\n",
      "2        onset        54\n",
      "3        virus        53\n",
      "4     epidemic        49\n",
      "..         ...       ...\n",
      "260     unique         4\n",
      "261       used         4\n",
      "262     varied         4\n",
      "263       work         4\n",
      "264     years,         4\n",
      "\n",
      "[261 rows x 2 columns]\n",
      "0    168.0\n",
      "1     60.0\n",
      "2     54.0\n",
      "Name: Frequency, dtype: float64\n"
     ]
    },
    {
     "data": {
      "image/png": "[encoded data removed]",
      "text/plain": [
       "<Figure size 216x432 with 1 Axes>"
      ]
     },
     "metadata": {
      "needs_background": "light"
     },
     "output_type": "display_data"
    },
    {
     "name": "stdout",
     "output_type": "stream",
     "text": [
      "265\n",
      "S\n",
      "S\n",
      "            Name Frequency\n",
      "1           px;}        18\n",
      "2      #ffffff;}        17\n",
      "3            px;         8\n",
      "5      font-size         7\n",
      "6        double;         6\n",
      "7   border-color         5\n",
      "8   border-width         5\n",
      "9   evolutionary         5\n",
      "10        solid;         5\n",
      "13           [],         4\n",
      "14          bold         4\n",
      "15      courier;         4\n",
      "16      detected         4\n",
      "17           em;         4\n",
      "18      genotype         4\n",
      "19       protein         4\n",
      "20          pt;}         4\n",
      "21       viruses         4\n",
      "0    20.0\n",
      "1    18.0\n",
      "2    17.0\n",
      "Name: Frequency, dtype: float64\n"
     ]
    },
    {
     "data": {
      "text/plain": [
       "<Figure size 432x288 with 0 Axes>"
      ]
     },
     "metadata": {},
     "output_type": "display_data"
    },
    {
     "data": {
      "image/png": "[encoded data removed]",
      "text/plain": [
       "<Figure size 216x432 with 1 Axes>"
      ]
     },
     "metadata": {
      "needs_background": "light"
     },
     "output_type": "display_data"
    },
    {
     "name": "stdout",
     "output_type": "stream",
     "text": [
      "22\n",
      "S\n",
      "S\n",
      "S\n",
      "S\n",
      "S\n",
      "          Name Frequency\n",
      "0          YFV        51\n",
      "1    Southeast        41\n",
      "2        fever        36\n",
      "3       Yellow        33\n",
      "4    sequences        32\n",
      "..         ...       ...\n",
      "251   spanning         4\n",
      "252      steps         4\n",
      "253    strains         4\n",
      "254   temporal         4\n",
      "255       test         4\n",
      "\n",
      "[252 rows x 2 columns]\n",
      "0    51.0\n",
      "1    41.0\n",
      "2    36.0\n",
      "Name: Frequency, dtype: float64\n"
     ]
    },
    {
     "data": {
      "text/plain": [
       "<Figure size 432x288 with 0 Axes>"
      ]
     },
     "metadata": {},
     "output_type": "display_data"
    },
    {
     "data": {
      "image/png": "[encoded data removed]",
      "text/plain": [
       "<Figure size 216x432 with 1 Axes>"
      ]
     },
     "metadata": {
      "needs_background": "light"
     },
     "output_type": "display_data"
    },
    {
     "name": "stdout",
     "output_type": "stream",
     "text": [
      "256\n",
      "S\n"
     ]
    },
    {
     "data": {
      "text/plain": [
       "<Figure size 432x288 with 0 Axes>"
      ]
     },
     "metadata": {},
     "output_type": "display_data"
    }
   ],
   "source": [
    "\n",
    "        \n",
    "\n",
    "for i in pathlist:\n",
    "    try:\n",
    "        makegraph(i)\n",
    "    except:\n",
    "        print(\"S\")\n",
    "    "
   ]
  },
  {
   "cell_type": "code",
   "execution_count": null,
   "metadata": {},
   "outputs": [],
   "source": []
  },
  {
   "cell_type": "code",
   "execution_count": null,
   "metadata": {},
   "outputs": [],
   "source": []
  },
  {
   "cell_type": "code",
   "execution_count": null,
   "metadata": {},
   "outputs": [],
   "source": []
  },
  {
   "cell_type": "code",
   "execution_count": null,
   "metadata": {},
   "outputs": [],
   "source": []
  }
 ],
 "metadata": {
  "kernelspec": {
   "display_name": "Python 3",
   "language": "python",
   "name": "python3"
  },
  "language_info": {
   "codemirror_mode": {
    "name": "ipython",
    "version": 3
   },
   "file_extension": ".py",
   "mimetype": "text/x-python",
   "name": "python",
   "nbconvert_exporter": "python",
   "pygments_lexer": "ipython3",
   "version": "3.6.6"
  }
 },
 "nbformat": 4,
 "nbformat_minor": 4
}
